{
 "cells": [
  {
   "cell_type": "code",
   "execution_count": 19,
   "id": "drawn-assessment",
   "metadata": {},
   "outputs": [],
   "source": [
    "import numpy as np\n",
    "import pandas as pd"
   ]
  },
  {
   "cell_type": "code",
   "execution_count": 27,
   "id": "thrown-arrow",
   "metadata": {},
   "outputs": [],
   "source": [
    "def entropy(y):\n",
    "    out = np.array(y)\n",
    "    ent = 0\n",
    "    for val in np.unique(out):\n",
    "        temp = -(len(out[out == val])/len(y))*(np.log2(len(out[out == val])/len(y)))\n",
    "        ent += temp\n",
    "    print(\"Calculated entropy:\", ent)\n",
    "    return ent\n",
    "        "
   ]
  },
  {
   "cell_type": "code",
   "execution_count": 17,
   "id": "sufficient-buddy",
   "metadata": {},
   "outputs": [],
   "source": [
    "def get_IG(y,att_y):\n",
    "    temp_ig = 0\n",
    "    for att in att_y[0].unique():\n",
    "        temp_df = att_y[att_y[0] == att]\n",
    "        H_x = entropy(temp_df[1])\n",
    "        p_s = len(temp_df)/len(att_y)\n",
    "        temp_ig += ((p_x*H_s))\n",
    "    return entropy(y)-temp_ig"
   ]
  },
  {
   "cell_type": "code",
   "execution_count": 33,
   "id": "previous-republic",
   "metadata": {},
   "outputs": [
    {
     "data": {
      "text/plain": [
       "0.9402859586706311"
      ]
     },
     "execution_count": 33,
     "metadata": {},
     "output_type": "execute_result"
    }
   ],
   "source": [
    "#test entropy calculation\n",
    "entropy(y)"
   ]
  },
  {
   "cell_type": "code",
   "execution_count": 37,
   "id": "oriented-survival",
   "metadata": {},
   "outputs": [],
   "source": [
    "y_at = pd.DataFrame({\"Wind\": [\"Weak\", \"Strong\", \"Weak\", \"Weak\", \"Weak\", \"Strong\",\"\"],\"y\":[\"No\",\"No\",\"No\",\"yes\",\"yes\"]})"
   ]
  },
  {
   "cell_type": "code",
   "execution_count": 38,
   "id": "developed-adoption",
   "metadata": {},
   "outputs": [
    {
     "data": {
      "text/html": [
       "<div>\n",
       "<style scoped>\n",
       "    .dataframe tbody tr th:only-of-type {\n",
       "        vertical-align: middle;\n",
       "    }\n",
       "\n",
       "    .dataframe tbody tr th {\n",
       "        vertical-align: top;\n",
       "    }\n",
       "\n",
       "    .dataframe thead th {\n",
       "        text-align: right;\n",
       "    }\n",
       "</style>\n",
       "<table border=\"1\" class=\"dataframe\">\n",
       "  <thead>\n",
       "    <tr style=\"text-align: right;\">\n",
       "      <th></th>\n",
       "      <th>Outlook</th>\n",
       "      <th>Temperature</th>\n",
       "      <th>Humidity</th>\n",
       "      <th>Wind</th>\n",
       "      <th>y</th>\n",
       "    </tr>\n",
       "  </thead>\n",
       "  <tbody>\n",
       "    <tr>\n",
       "      <th>0</th>\n",
       "      <td>Sunny</td>\n",
       "      <td>Hot</td>\n",
       "      <td>High</td>\n",
       "      <td>Weak</td>\n",
       "      <td>No</td>\n",
       "    </tr>\n",
       "    <tr>\n",
       "      <th>1</th>\n",
       "      <td>Sunny</td>\n",
       "      <td>Hot</td>\n",
       "      <td>High</td>\n",
       "      <td>Strong</td>\n",
       "      <td>No</td>\n",
       "    </tr>\n",
       "    <tr>\n",
       "      <th>2</th>\n",
       "      <td>Sunny</td>\n",
       "      <td>Mild</td>\n",
       "      <td>High</td>\n",
       "      <td>Weak</td>\n",
       "      <td>No</td>\n",
       "    </tr>\n",
       "    <tr>\n",
       "      <th>3</th>\n",
       "      <td>Sunny</td>\n",
       "      <td>Cool</td>\n",
       "      <td>Normal</td>\n",
       "      <td>Weak</td>\n",
       "      <td>yes</td>\n",
       "    </tr>\n",
       "    <tr>\n",
       "      <th>4</th>\n",
       "      <td>Sunny</td>\n",
       "      <td>Mild</td>\n",
       "      <td>Normal</td>\n",
       "      <td>Strong</td>\n",
       "      <td>yes</td>\n",
       "    </tr>\n",
       "  </tbody>\n",
       "</table>\n",
       "</div>"
      ],
      "text/plain": [
       "  Outlook Temperature Humidity    Wind    y\n",
       "0   Sunny         Hot     High    Weak   No\n",
       "1   Sunny         Hot     High  Strong   No\n",
       "2   Sunny        Mild     High    Weak   No\n",
       "3   Sunny        Cool   Normal    Weak  yes\n",
       "4   Sunny        Mild   Normal  Strong  yes"
      ]
     },
     "execution_count": 38,
     "metadata": {},
     "output_type": "execute_result"
    }
   ],
   "source": [
    "y_at"
   ]
  },
  {
   "cell_type": "code",
   "execution_count": 32,
   "id": "hidden-drilling",
   "metadata": {},
   "outputs": [],
   "source": [
    "y = [\"No\", \"No\", \"yes\", \"yes\", \"yes\",\"No\", \"yes\",\"No\", \"yes\", \"yes\", \"yes\", \"yes\", \"yes\",\"No\"]"
   ]
  },
  {
   "cell_type": "code",
   "execution_count": 31,
   "id": "mathematical-samba",
   "metadata": {},
   "outputs": [
    {
     "data": {
      "text/plain": [
       "-0.9120527531129521"
      ]
     },
     "execution_count": 31,
     "metadata": {},
     "output_type": "execute_result"
    }
   ],
   "source": [
    "get_IG([8,8,8,7,7,7,5,5,6,6,6],y)"
   ]
  },
  {
   "cell_type": "code",
   "execution_count": null,
   "id": "beginning-interaction",
   "metadata": {},
   "outputs": [],
   "source": []
  }
 ],
 "metadata": {
  "kernelspec": {
   "display_name": "Python 3",
   "language": "python",
   "name": "python3"
  },
  "language_info": {
   "codemirror_mode": {
    "name": "ipython",
    "version": 3
   },
   "file_extension": ".py",
   "mimetype": "text/x-python",
   "name": "python",
   "nbconvert_exporter": "python",
   "pygments_lexer": "ipython3",
   "version": "3.8.8"
  }
 },
 "nbformat": 4,
 "nbformat_minor": 5
}
