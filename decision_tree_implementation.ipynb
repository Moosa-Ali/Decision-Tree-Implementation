{
 "cells": [
  {
   "cell_type": "code",
   "execution_count": 4,
   "id": "adopted-declaration",
   "metadata": {},
   "outputs": [],
   "source": [
    "import numpy as np\n",
    "import pandas as pd\n",
    "from operator import itemgetter"
   ]
  },
  {
   "cell_type": "code",
   "execution_count": 5,
   "id": "exotic-characterization",
   "metadata": {},
   "outputs": [],
   "source": [
    "y_at = pd.DataFrame({\"Outlook\" :[\"Sunny\",\"Sunny\",\"Overcast\",\"Rain\",\"Rain\",\"Rain\",\"Overcast\",\"Sunny\",\"Sunny\",\"Rain\",\"Sunny\",\"Overcast\",\"Overcast\",\"Rain\"],\"Temperature\":[\"Hot\",\"Hot\",\"Hot\",\"Mild\",\"Cool\",\"Cool\",\"Cool\",\"Mild\",\"Cool\",\"Mild\",\"Mild\",\"Mild\",\"Hot\",\"Mild\"],\"Humidity\":[\"High\",\"High\",\"High\",\"High\",\"Normal\", \"Normal\",\"Normal\",\"High\",\"Normal\",\"Normal\",\"Normal\",\"High\",\"Normal\",\"High\"],\"Wind\": [\"Weak\", \"Strong\", \"Weak\", \"Weak\", \"Weak\", \"Strong\",\"Strong\", \"Weak\", \"Weak\", \"Weak\", \"Strong\",\"Strong\", \"Weak\",\"Strong\"]})"
   ]
  },
  {
   "cell_type": "code",
   "execution_count": 6,
   "id": "mobile-beach",
   "metadata": {},
   "outputs": [],
   "source": [
    "y = pd.DataFrame([\"No\", \"No\", \"yes\", \"yes\", \"yes\",\"No\", \"yes\",\"No\", \"yes\", \"yes\", \"yes\", \"yes\", \"yes\",\"No\"])"
   ]
  },
  {
   "cell_type": "code",
   "execution_count": 8,
   "id": "collaborative-arizona",
   "metadata": {},
   "outputs": [],
   "source": [
    "def entropy(y):\n",
    "    out = np.array(y)\n",
    "    ent = 0\n",
    "    for val in np.unique(out):\n",
    "        temp = -(len(out[out == val])/len(y))*(np.log2(len(out[out == val])/len(y)))\n",
    "        ent += temp\n",
    "    return ent\n",
    "        "
   ]
  },
  {
   "cell_type": "code",
   "execution_count": 9,
   "id": "grave-processing",
   "metadata": {},
   "outputs": [],
   "source": [
    "def get_IG(y,att_y):\n",
    "    att_y.columns = range(att_y.shape[1])\n",
    "    temp_ig = 0\n",
    "    \n",
    "    for att in att_y[0].unique():\n",
    "        \n",
    "        temp_df = att_y[att_y[0] == att]\n",
    "        H_x = entropy(temp_df[1])\n",
    "        p_s = len(temp_df)/len(att_y)\n",
    "        temp_ig += ((p_s*H_x))\n",
    "        \n",
    "    return entropy(y)-temp_ig"
   ]
  },
  {
   "cell_type": "code",
   "execution_count": 10,
   "id": "rocky-mercy",
   "metadata": {},
   "outputs": [
    {
     "data": {
      "text/plain": [
       "0.9402859586706311"
      ]
     },
     "execution_count": 10,
     "metadata": {},
     "output_type": "execute_result"
    }
   ],
   "source": [
    "#test entropy calculation\n",
    "entropy(y)"
   ]
  },
  {
   "cell_type": "code",
   "execution_count": 11,
   "id": "infrared-toner",
   "metadata": {},
   "outputs": [],
   "source": [
    "def get_top_node(data,y):\n",
    "    temp_df = pd.concat([data,y],axis = 1)\n",
    "    temp_IGs = []\n",
    "    for att in data.keys():\n",
    "        single_df = temp_df[[att,y.keys()[0]]]\n",
    "        IG = get_IG(y,single_df)\n",
    "        temp_IGs.append((att, IG))\n",
    "    \n",
    "    return sorted(temp_IGs, key = itemgetter(1), reverse = True)[0]\n",
    "    "
   ]
  },
  {
   "cell_type": "code",
   "execution_count": 12,
   "id": "indirect-albuquerque",
   "metadata": {},
   "outputs": [
    {
     "data": {
      "text/plain": [
       "('Outlook', 0.24674981977443933)"
      ]
     },
     "execution_count": 12,
     "metadata": {},
     "output_type": "execute_result"
    }
   ],
   "source": [
    "get_top_node(y_at,pd.DataFrame(y))"
   ]
  },
  {
   "cell_type": "code",
   "execution_count": 13,
   "id": "generous-earth",
   "metadata": {},
   "outputs": [],
   "source": [
    "def set_branches(root,sub_tree,data, full_data):\n",
    "    sub_tree[root] = {}\n",
    "    for attr in full_data[root].unique():\n",
    "            print(\"Working for attribute:\",attr,\"for node:\",root)\n",
    "            temp_data = data[data[root] == attr]\n",
    "            temp_data_full = full_data[full_data[root] == attr]\n",
    "            if len(temp_data_full[temp_data_full.columns[-1]].unique()) == 1:\n",
    "                sub_tree[root][attr] =(temp_data_full[temp_data_full.columns[-1]].unique(),1)\n",
    "                print(\"Tree created:\", sub_tree)\n",
    "                return sub_tree\n",
    "            else:\n",
    "                current_node = get_top_node(temp_data,temp_data_full[temp_data_full.columns[-1]])[0]\n",
    "                print(\"Next node for working:\",current_node)\n",
    "                sub_tree[root][attr] = {}\n",
    "                current_tree = sub_tree[root][attr]\n",
    "                return set_branches(current_node,current_tree,temp_data,temp_data_full)\n"
   ]
  },
  {
   "cell_type": "code",
   "execution_count": 16,
   "id": "unknown-recipient",
   "metadata": {},
   "outputs": [],
   "source": [
    "def fit_tree(data,target):\n",
    "    full_data = pd.concat([data,target],axis = 1)\n",
    "    tree = {}\n",
    "    #get root node\n",
    "    n = data.shape[0] - 1\n",
    "    root = get_top_node(data,target)[0]\n",
    "    print(\"Root Selected:\", root)\n",
    "    #get attributes of current node\n",
    "    \n",
    "    final_tree = set_branches(root,tree,data,full_data)\n",
    "    '''\n",
    "    for attr in full_data[root].unique():\n",
    "        print(\"Working for attribute:\",attr,\"for node:\",root)\n",
    "        temp_data = data[data[root] == attr]\n",
    "        temp_data_full = full_data[full_data[root] == attr]\n",
    "        if len(temp_data_full[temp_data_full.columns[-1]].unique()) == 1:\n",
    "            sub_tree[attr] =(temp_data_full[temp_data_full.columns[-1]].unique(),1)\n",
    "            print(\"Tree created:\", sub_tree)\n",
    "        else:\n",
    "            current_node = get_top_node(temp_data,temp_data_full[temp_data_full.columns[-1]])\n",
    "            print(\"Next node for working:\",current_node)\n",
    "    '''\n",
    "    \n",
    "    return final_tree\n",
    "    #check if a sub branch gives a defined answer\n",
    "    \n",
    "    #redo calculations for other subbranches\n",
    "    "
   ]
  },
  {
   "cell_type": "code",
   "execution_count": 17,
   "id": "capital-laser",
   "metadata": {},
   "outputs": [
    {
     "name": "stdout",
     "output_type": "stream",
     "text": [
      "Root Selected: Outlook\n",
      "Working for attribute: Sunny for node: Outlook\n",
      "Next node for working: Humidity\n",
      "Working for attribute: High for node: Humidity\n",
      "Tree created: {'Humidity': {'High': (array(['No'], dtype=object), 1)}}\n"
     ]
    }
   ],
   "source": [
    "tree = fit_tree(y_at,y)"
   ]
  },
  {
   "cell_type": "code",
   "execution_count": 18,
   "id": "round-encounter",
   "metadata": {},
   "outputs": [
    {
     "data": {
      "text/plain": [
       "{'Humidity': {'High': (array(['No'], dtype=object), 1)}}"
      ]
     },
     "execution_count": 18,
     "metadata": {},
     "output_type": "execute_result"
    }
   ],
   "source": [
    "tree"
   ]
  },
  {
   "cell_type": "code",
   "execution_count": null,
   "id": "comprehensive-repair",
   "metadata": {},
   "outputs": [],
   "source": []
  },
  {
   "cell_type": "code",
   "execution_count": 52,
   "id": "eight-health",
   "metadata": {},
   "outputs": [
    {
     "name": "stdout",
     "output_type": "stream",
     "text": [
      "Working for attribute: Weak\n",
      "H_x = 0.8112781244591328\n",
      "p_s = 0.5714285714285714\n",
      "Working for attribute: Strong\n",
      "H_x = 1.0\n",
      "p_s = 0.42857142857142855\n"
     ]
    },
    {
     "data": {
      "text/plain": [
       "0.04812703040826949"
      ]
     },
     "execution_count": 52,
     "metadata": {},
     "output_type": "execute_result"
    }
   ],
   "source": [
    "get_IG(y,y_at)"
   ]
  },
  {
   "cell_type": "code",
   "execution_count": null,
   "id": "painted-stockholm",
   "metadata": {},
   "outputs": [],
   "source": []
  }
 ],
 "metadata": {
  "kernelspec": {
   "display_name": "Python 3",
   "language": "python",
   "name": "python3"
  },
  "language_info": {
   "codemirror_mode": {
    "name": "ipython",
    "version": 3
   },
   "file_extension": ".py",
   "mimetype": "text/x-python",
   "name": "python",
   "nbconvert_exporter": "python",
   "pygments_lexer": "ipython3",
   "version": "3.8.8"
  }
 },
 "nbformat": 4,
 "nbformat_minor": 5
}
